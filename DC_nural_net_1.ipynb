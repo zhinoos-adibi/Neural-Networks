{
 "cells": [
  {
   "cell_type": "code",
   "execution_count": null,
   "id": "762c0b88",
   "metadata": {},
   "outputs": [],
   "source": [
    "import numpy as np"
   ]
  },
  {
   "cell_type": "code",
   "execution_count": null,
   "id": "a2cd16f8",
   "metadata": {},
   "outputs": [],
   "source": [
    "input_data = np.array([2,3])\n",
    "wights = {'node_0':np.array([1,1]),'node_1':np.array([-1,1]),'output':np.array([2,-1])}"
   ]
  },
  {
   "cell_type": "code",
   "execution_count": null,
   "id": "64796a9f",
   "metadata": {},
   "outputs": [],
   "source": [
    "nod0_value = (input_data * wights['node_0']).sum()\n",
    "nod1_value = (input_data * wights['node_1']).sum()\n",
    "hidden_layer_value = np.array([nod0_value,nod1_value])\n",
    "print(hidden_layer_value)\n"
   ]
  },
  {
   "cell_type": "code",
   "execution_count": null,
   "id": "26a412ca",
   "metadata": {},
   "outputs": [],
   "source": [
    "output = (hidden_layer_value *wights['output']).sum()\n",
    "output"
   ]
  },
  {
   "cell_type": "code",
   "execution_count": null,
   "id": "1a251734",
   "metadata": {},
   "outputs": [],
   "source": [
    "def relu(input):\n",
    "    '''Define your relu activation function here'''\n",
    "    # Calculate the value for the output of the relu function: output\n",
    "    output = max(0, input)\n",
    "    \n",
    "    # Return the value just calculated\n",
    "    return(output)\n",
    "\n",
    "# Calculate node 0 value: node_0_output\n",
    "node_0_input = (input_data * weights['node_0']).sum()\n",
    "node_0_output = relu(node_0_input)\n",
    "\n",
    "# Calculate node 1 value: node_1_output\n",
    "node_1_input = (input_data * weights['node_1']).sum()\n",
    "node_1_output = relu(node_1_input)\n",
    "\n",
    "# Put node values into array: hidden_layer_outputs\n",
    "hidden_layer_outputs = np.array([node_0_output, node_1_output])\n",
    "\n",
    "# Calculate model output (do not apply relu)\n",
    "model_output = (hidden_layer_outputs * weights['output']).sum()\n",
    "\n",
    "# Print model output\n",
    "print(model_output)"
   ]
  }
 ],
 "metadata": {
  "kernelspec": {
   "display_name": "Python 3",
   "language": "python",
   "name": "python3"
  },
  "language_info": {
   "codemirror_mode": {
    "name": "ipython",
    "version": 3
   },
   "file_extension": ".py",
   "mimetype": "text/x-python",
   "name": "python",
   "nbconvert_exporter": "python",
   "pygments_lexer": "ipython3",
   "version": "3.9.6"
  }
 },
 "nbformat": 4,
 "nbformat_minor": 5
}
